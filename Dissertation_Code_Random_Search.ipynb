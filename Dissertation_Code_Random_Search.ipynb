{
  "nbformat": 4,
  "nbformat_minor": 0,
  "metadata": {
    "colab": {
      "name": "Dissertation_Code_Random_Search.ipynb",
      "provenance": [],
      "collapsed_sections": [],
      "machine_shape": "hm",
      "authorship_tag": "ABX9TyNrulWyP2rSlw6e+AwHyV7Y",
      "include_colab_link": true
    },
    "kernelspec": {
      "name": "python3",
      "display_name": "Python 3"
    },
    "language_info": {
      "name": "python"
    },
    "accelerator": "GPU"
  },
  "cells": [
    {
      "cell_type": "markdown",
      "metadata": {
        "id": "view-in-github",
        "colab_type": "text"
      },
      "source": [
        "<a href=\"https://colab.research.google.com/github/Jake-BS/dissertation_code/blob/main/Dissertation_Code_Random_Search.ipynb\" target=\"_parent\"><img src=\"https://colab.research.google.com/assets/colab-badge.svg\" alt=\"Open In Colab\"/></a>"
      ]
    },
    {
      "cell_type": "markdown",
      "source": [
        "# **Config options**\n",
        "\n",
        "`backupDir` Set to a folder in your gdrive so that trained weights are saved even if the runtime times out.\n",
        "\n",
        "`resume` Continue training based on any existing weights files in `backupDir`.\n",
        "\n",
        "`color` Disable hue augmentation if you want the network to use colour as part of the classification decisions.\n",
        "\n",
        "`tiny` Use the tiny version of yolo. Faster to train and run but less accurate.\n",
        "\n",
        "`yolo` Set yolo version to use, 3 or 4 supported at present."
      ],
      "metadata": {
        "id": "F8PwjuaD63TE"
      }
    },
    {
      "cell_type": "code",
      "source": [
        "resume = False             # resume training that was previously stopped\n",
        "color = True              # use color for classification\n",
        "tiny = True               # train tiny yolo model\n",
        "yolo = 4                 # yolo version to use\n",
        "trainProp = 0.6           # proportion of images to use for training - changed from 6 to 8\n",
        "testProp = 0.2\n",
        "multiplier = 1            # training multiplier, train beyond 'recommeneded'\n",
        "colabFree = False         # if using a free version of colab this might be required\n",
        "\n",
        "datasetFile = \"/content/gdrive/MyDrive/Dissertation/08_Jake_done.tar.xz\"\n",
        "backupDir = \"/content/gdrive/MyDrive/Dissertation/backup\"\n",
        "classesFile = \"/content/gdrive/MyDrive/Dissertation/classes.txt\"\n",
        "\n",
        "# You probably don't need to touch anything below this line\n",
        "rebuild = False           # recompile darknet, set to true if you have changed any of the options below\n",
        "size = None, None         # change network input size, set as None, None to use the default\n",
        "\n",
        "#if yolo == 4: size = 416, 416\n",
        "size = 416, 416\n",
        "\n",
        "# try it out\n",
        "#size = 416, 736\n",
        "\n",
        "# input size must be multiple of 32\n",
        "assert( size[0]%32 == 0 )\n",
        "assert( size[1]%32 == 0 )\n",
        "\n",
        "validProp = 1 - trainProp - testProp\n",
        "\n",
        "gpu_info = !nvidia-smi   # automatically detect if you are using a gpu runtime\n",
        "gpu = '\\n'.join(gpu_info).find('failed') == -1\n",
        "\n",
        "tensor = True\n",
        "opencv = True\n",
        "cudnn = True\n",
        "\n",
        "import os\n",
        "\n",
        "wrkDir = \"/content\"\n",
        "\n",
        "tempDir = os.path.join( wrkDir, \"temp\" )\n",
        "dataDir = os.path.join( wrkDir, \"data\" )\n",
        "yoloDir = os.path.join( wrkDir, \"yolo\" )\n",
        "#What should this file be?\n",
        "darknetDir = os.path.join( wrkDir, \"darknet\" )\n",
        "trainingDir = os.path.join(yoloDir, \"training\")\n",
        "\n",
        "dataFile = os.path.join(yoloDir, \"obj.data\")\n",
        "namesFile = os.path.join(yoloDir, \"obj.names\")\n",
        "trainingFile = os.path.join(yoloDir, \"train.txt\")\n",
        "testingFile = os.path.join(yoloDir, \"test.txt\")\n",
        "validFile = os.path.join(yoloDir, \"valid.txt\")\n",
        "trainingCfgFile = os.path.join(yoloDir, \"training.cfg\")\n",
        "trainedCfgFile = os.path.join(yoloDir, \"trained.cfg\")\n",
        "weightsFile = os.path.join(yoloDir,\"yolo.weights\")\n",
        "trainedWeightsFile = os.path.join( backupDir, \"training_best.weights\" )\n"
      ],
      "metadata": {
        "id": "fyb9hIHB9Jku"
      },
      "execution_count": null,
      "outputs": []
    },
    {
      "cell_type": "code",
      "source": [
        "# display config options\n",
        "print( f\"colabFree  = {colabFree}\" )\n",
        "print( f\"color      = {color}\" )\n",
        "print( f\"cudnn      = {cudnn}\" )\n",
        "print( f\"gpu        = {gpu}\" )\n",
        "print( f\"multiplier = {multiplier}\" )\n",
        "print( f\"opencv     = {opencv}\" )\n",
        "print( f\"rebuild    = {rebuild}\" )\n",
        "print( f\"resume     = {resume}\" )\n",
        "print( f\"size       = {size}\" )\n",
        "print( f\"tensor     = {tensor}\" )\n",
        "print( f\"testProp   = {testProp}\" )\n",
        "print( f\"tiny       = {tiny}\" )\n",
        "print( f\"trainProp  = {trainProp}\" )\n",
        "print( f\"validProp  = {validProp}\" )\n",
        "print( f\"yolo       = {yolo}\" )\n",
        "print()\n",
        "\n",
        "print( f\"tempDir     = {tempDir}\" )\n",
        "print( f\"dataDir     = {dataDir}\" )\n",
        "print( f\"yoloDir     = {yoloDir}\" )\n",
        "print( f\"darknetDir  = {darknetDir}\" )\n",
        "print( f\"trainingDir = {trainingDir}\" )\n",
        "print( f\"backupDir   = {backupDir}\" )\n",
        "print()\n",
        "\n",
        "print( f\"dataFile           = {dataFile}\" )\n",
        "print( f\"namesFile          = {namesFile}\" )\n",
        "print( f\"trainingFile       = {trainingFile}\" )\n",
        "print( f\"testingFile        = {testingFile}\" )\n",
        "print( f\"trainingCfgFile    = {trainingCfgFile}\" )\n",
        "print( f\"trainedCfgFile     = {trainedCfgFile}\" )\n",
        "print( f\"trainedWeightsFile = {trainedWeightsFile}\" )\n",
        "print( f\"validFile          = {validFile}\" )\n",
        "print( f\"weightsFile        = {weightsFile}\" )"
      ],
      "metadata": {
        "colab": {
          "base_uri": "https://localhost:8080/"
        },
        "id": "5uufRU3c9LIf",
        "outputId": "95a77ea0-4964-4429-9766-d36f75af5e6a"
      },
      "execution_count": null,
      "outputs": [
        {
          "output_type": "stream",
          "name": "stdout",
          "text": [
            "colabFree  = False\n",
            "color      = True\n",
            "cudnn      = True\n",
            "gpu        = True\n",
            "multiplier = 1\n",
            "opencv     = True\n",
            "rebuild    = False\n",
            "resume     = False\n",
            "size       = (416, 416)\n",
            "tensor     = True\n",
            "testProp   = 0.2\n",
            "tiny       = True\n",
            "trainProp  = 0.6\n",
            "validProp  = 0.2\n",
            "yolo       = 4\n",
            "\n",
            "tempDir     = /content/temp\n",
            "dataDir     = /content/data\n",
            "yoloDir     = /content/yolo\n",
            "darknetDir  = /content/darknet\n",
            "trainingDir = /content/yolo/training\n",
            "backupDir   = /content/gdrive/MyDrive/Dissertation/backup\n",
            "\n",
            "dataFile           = /content/yolo/obj.data\n",
            "namesFile          = /content/yolo/obj.names\n",
            "trainingFile       = /content/yolo/train.txt\n",
            "testingFile        = /content/yolo/test.txt\n",
            "trainingCfgFile    = /content/yolo/training.cfg\n",
            "trainedCfgFile     = /content/yolo/trained.cfg\n",
            "trainedWeightsFile = /content/gdrive/MyDrive/Dissertation/backup/training_best.weights\n",
            "validFile          = /content/yolo/valid.txt\n",
            "weightsFile        = /content/yolo/yolo.weights\n"
          ]
        }
      ]
    },
    {
      "cell_type": "markdown",
      "source": [
        "# Mount your google drive, and extract the contents of your dataset .zip"
      ],
      "metadata": {
        "id": "dNOLa5AE9QxT"
      }
    },
    {
      "cell_type": "code",
      "source": [
        "        #mount drive\n",
        "%cd ..\n",
        "from google.colab import drive\n",
        "drive.mount('/content/gdrive')\n",
        "\n",
        "# this creates a symbolic link so that now the path /content/gdrive/My\\ Drive/ is equal to /mydrive\n",
        "#!ln -s \"/content/gdrive/My Drive/\" /mydrive"
      ],
      "metadata": {
        "colab": {
          "base_uri": "https://localhost:8080/"
        },
        "id": "aTHz51V29PA2",
        "outputId": "5a78127c-3933-4ba7-a1dd-cc38a3e99086"
      },
      "execution_count": 1,
      "outputs": [
        {
          "output_type": "stream",
          "name": "stdout",
          "text": [
            "/\n",
            "Mounted at /content/gdrive\n"
          ]
        }
      ]
    },
    {
      "cell_type": "code",
      "source": [
        "!rm -r {tempDir}\n",
        "!mkdir -p {tempDir}\n",
        "#!unzip -qo {datasetFile} -d {tempDir}\n",
        "!tar -xf {datasetFile} --directory {tempDir}\n",
        "!ls {tempDir}"
      ],
      "metadata": {
        "colab": {
          "base_uri": "https://localhost:8080/"
        },
        "id": "DRfKTDE69do2",
        "outputId": "82e9f46d-a58d-43a1-9cbe-b297416fad6f"
      },
      "execution_count": null,
      "outputs": [
        {
          "output_type": "stream",
          "name": "stdout",
          "text": [
            "08_Jake_done\n"
          ]
        }
      ]
    },
    {
      "cell_type": "markdown",
      "source": [
        "## Move all image and text files from the extract directory into the data directory.\n",
        "\n",
        "So we don't have to deal with different directory structures going forwards"
      ],
      "metadata": {
        "id": "4LmM4vSA9i4p"
      }
    },
    {
      "cell_type": "code",
      "source": [
        "import glob, os, shutil\n",
        "\n",
        "try: shutil.rmtree( dataDir )\n",
        "except FileNotFoundError: pass\n",
        "\n",
        "os.makedirs( dataDir )\n",
        "\n",
        "# find and relocate all images\n",
        "print( f\"Move contents of {tempDir}\")\n",
        "\n",
        "for ext in ('*.png', '*.jpg', \"*.txt\"):\n",
        "  globPath = os.path.join( tempDir, \"**\", ext )\n",
        "  print( globPath )\n",
        "  for filename in glob.glob( globPath, recursive=True ):\n",
        "    print( filename )\n",
        "    shutil.copyfile( filename, os.path.join( dataDir, os.path.split(filename)[-1] ) )"
      ],
      "metadata": {
        "colab": {
          "base_uri": "https://localhost:8080/"
        },
        "id": "4x4xeJqc9lZm",
        "outputId": "a2d85a03-3a8b-45d4-96f6-9813667bdcca"
      },
      "execution_count": null,
      "outputs": [
        {
          "output_type": "stream",
          "name": "stdout",
          "text": [
            "Move contents of /content/temp\n",
            "/content/temp/**/*.png\n",
            "/content/temp/**/*.jpg\n",
            "/content/temp/08_Jake_done/vid_109_frame_226.jpg\n",
            "/content/temp/08_Jake_done/vid_108_frame_496.jpg\n",
            "/content/temp/08_Jake_done/vid_108_frame_323.jpg\n",
            "/content/temp/08_Jake_done/vid_108_frame_532.jpg\n",
            "/content/temp/08_Jake_done/vid_109_frame_197.jpg\n",
            "/content/temp/08_Jake_done/vid_108_frame_724.jpg\n",
            "/content/temp/08_Jake_done/vid_108_frame_355.jpg\n",
            "/content/temp/08_Jake_done/vid_108_frame_646.jpg\n",
            "/content/temp/08_Jake_done/vid_108_frame_308.jpg\n",
            "/content/temp/08_Jake_done/vid_108_frame_495.jpg\n",
            "/content/temp/08_Jake_done/vid_109_frame_154.jpg\n",
            "/content/temp/08_Jake_done/vid_108_frame_368.jpg\n",
            "/content/temp/08_Jake_done/vid_108_frame_739.jpg\n",
            "/content/temp/08_Jake_done/vid_108_frame_402.jpg\n",
            "/content/temp/08_Jake_done/vid_108_frame_685.jpg\n",
            "/content/temp/08_Jake_done/vid_108_frame_400.jpg\n",
            "/content/temp/08_Jake_done/vid_108_frame_469.jpg\n",
            "/content/temp/08_Jake_done/vid_109_frame_303.jpg\n",
            "/content/temp/08_Jake_done/vid_108_frame_506.jpg\n",
            "/content/temp/08_Jake_done/vid_109_frame_14.jpg\n",
            "/content/temp/08_Jake_done/vid_108_frame_405.jpg\n",
            "/content/temp/08_Jake_done/vid_109_frame_225.jpg\n",
            "/content/temp/08_Jake_done/vid_108_frame_240.jpg\n",
            "/content/temp/08_Jake_done/vid_109_frame_271.jpg\n",
            "/content/temp/08_Jake_done/vid_108_frame_528.jpg\n",
            "/content/temp/08_Jake_done/vid_108_frame_637.jpg\n",
            "/content/temp/08_Jake_done/vid_108_frame_574.jpg\n",
            "/content/temp/08_Jake_done/vid_109_frame_133.jpg\n",
            "/content/temp/08_Jake_done/vid_109_frame_103.jpg\n",
            "/content/temp/08_Jake_done/vid_108_frame_307.jpg\n",
            "/content/temp/08_Jake_done/vid_108_frame_488.jpg\n",
            "/content/temp/08_Jake_done/vid_108_frame_360.jpg\n",
            "/content/temp/08_Jake_done/vid_108_frame_326.jpg\n",
            "/content/temp/08_Jake_done/vid_109_frame_27.jpg\n",
            "/content/temp/08_Jake_done/vid_108_frame_256.jpg\n",
            "/content/temp/08_Jake_done/vid_108_frame_562.jpg\n",
            "/content/temp/08_Jake_done/vid_108_frame_741.jpg\n",
            "/content/temp/08_Jake_done/vid_108_frame_227.jpg\n",
            "/content/temp/08_Jake_done/vid_109_frame_140.jpg\n",
            "/content/temp/08_Jake_done/vid_108_frame_201.jpg\n",
            "/content/temp/08_Jake_done/vid_108_frame_513.jpg\n",
            "/content/temp/08_Jake_done/vid_108_frame_216.jpg\n",
            "/content/temp/08_Jake_done/vid_108_frame_351.jpg\n",
            "/content/temp/08_Jake_done/vid_109_frame_179.jpg\n",
            "/content/temp/08_Jake_done/vid_108_frame_281.jpg\n",
            "/content/temp/08_Jake_done/vid_108_frame_491.jpg\n",
            "/content/temp/08_Jake_done/vid_108_frame_611.jpg\n",
            "/content/temp/08_Jake_done/vid_108_frame_258.jpg\n",
            "/content/temp/08_Jake_done/vid_108_frame_57.jpg\n",
            "/content/temp/08_Jake_done/vid_108_frame_567.jpg\n",
            "/content/temp/08_Jake_done/vid_109_frame_162.jpg\n",
            "/content/temp/08_Jake_done/vid_109_frame_285.jpg\n",
            "/content/temp/08_Jake_done/vid_108_frame_433.jpg\n",
            "/content/temp/08_Jake_done/vid_108_frame_550.jpg\n",
            "/content/temp/08_Jake_done/vid_108_frame_419.jpg\n",
            "/content/temp/08_Jake_done/vid_109_frame_150.jpg\n",
            "/content/temp/08_Jake_done/vid_109_frame_25.jpg\n",
            "/content/temp/08_Jake_done/vid_108_frame_51.jpg\n",
            "/content/temp/08_Jake_done/vid_108_frame_211.jpg\n",
            "/content/temp/08_Jake_done/vid_108_frame_336.jpg\n",
            "/content/temp/08_Jake_done/vid_108_frame_421.jpg\n",
            "/content/temp/08_Jake_done/vid_109_frame_163.jpg\n",
            "/content/temp/08_Jake_done/vid_108_frame_418.jpg\n",
            "/content/temp/08_Jake_done/vid_108_frame_315.jpg\n",
            "/content/temp/08_Jake_done/vid_108_frame_743.jpg\n",
            "/content/temp/08_Jake_done/vid_108_frame_88.jpg\n",
            "/content/temp/08_Jake_done/vid_108_frame_658.jpg\n",
            "/content/temp/08_Jake_done/vid_108_frame_515.jpg\n",
            "/content/temp/08_Jake_done/vid_109_frame_128.jpg\n",
            "/content/temp/08_Jake_done/vid_108_frame_327.jpg\n",
            "/content/temp/08_Jake_done/vid_108_frame_691.jpg\n",
            "/content/temp/08_Jake_done/vid_108_frame_73.jpg\n",
            "/content/temp/08_Jake_done/vid_108_frame_459.jpg\n",
            "/content/temp/08_Jake_done/vid_108_frame_662.jpg\n",
            "/content/temp/08_Jake_done/vid_108_frame_49.jpg\n",
            "/content/temp/08_Jake_done/vid_108_frame_624.jpg\n",
            "/content/temp/08_Jake_done/vid_109_frame_211.jpg\n",
            "/content/temp/08_Jake_done/vid_108_frame_698.jpg\n",
            "/content/temp/08_Jake_done/vid_108_frame_76.jpg\n",
            "/content/temp/08_Jake_done/vid_108_frame_395.jpg\n",
            "/content/temp/08_Jake_done/vid_108_frame_644.jpg\n",
            "/content/temp/08_Jake_done/vid_109_frame_137.jpg\n",
            "/content/temp/08_Jake_done/vid_108_frame_466.jpg\n",
            "/content/temp/08_Jake_done/vid_108_frame_67.jpg\n",
            "/content/temp/08_Jake_done/vid_109_frame_101.jpg\n",
            "/content/temp/08_Jake_done/vid_108_frame_471.jpg\n",
            "/content/temp/08_Jake_done/vid_108_frame_546.jpg\n",
            "/content/temp/08_Jake_done/vid_108_frame_633.jpg\n",
            "/content/temp/08_Jake_done/vid_109_frame_110.jpg\n",
            "/content/temp/08_Jake_done/vid_108_frame_65.jpg\n",
            "/content/temp/08_Jake_done/vid_108_frame_614.jpg\n",
            "/content/temp/08_Jake_done/vid_109_frame_212.jpg\n",
            "/content/temp/08_Jake_done/vid_108_frame_580.jpg\n",
            "/content/temp/08_Jake_done/vid_108_frame_393.jpg\n",
            "/content/temp/08_Jake_done/vid_109_frame_105.jpg\n",
            "/content/temp/08_Jake_done/vid_109_frame_183.jpg\n",
            "/content/temp/08_Jake_done/vid_109_frame_164.jpg\n",
            "/content/temp/08_Jake_done/vid_108_frame_212.jpg\n",
            "/content/temp/08_Jake_done/vid_109_frame_169.jpg\n",
            "/content/temp/08_Jake_done/vid_108_frame_23.jpg\n",
            "/content/temp/**/*.txt\n",
            "/content/temp/08_Jake_done/vid_108_frame_418.txt\n",
            "/content/temp/08_Jake_done/vid_109_frame_183.txt\n",
            "/content/temp/08_Jake_done/vid_108_frame_355.txt\n",
            "/content/temp/08_Jake_done/vid_108_frame_327.txt\n",
            "/content/temp/08_Jake_done/vid_109_frame_163.txt\n",
            "/content/temp/08_Jake_done/vid_108_frame_567.txt\n",
            "/content/temp/08_Jake_done/vid_109_frame_169.txt\n",
            "/content/temp/08_Jake_done/vid_108_frame_51.txt\n",
            "/content/temp/08_Jake_done/vid_109_frame_179.txt\n",
            "/content/temp/08_Jake_done/vid_109_frame_105.txt\n",
            "/content/temp/08_Jake_done/vid_108_frame_360.txt\n",
            "/content/temp/08_Jake_done/vid_108_frame_240.txt\n",
            "/content/temp/08_Jake_done/vid_108_frame_574.txt\n",
            "/content/temp/08_Jake_done/vid_108_frame_691.txt\n",
            "/content/temp/08_Jake_done/vid_108_frame_698.txt\n",
            "/content/temp/08_Jake_done/vid_109_frame_14.txt\n",
            "/content/temp/08_Jake_done/vid_108_frame_466.txt\n",
            "/content/temp/08_Jake_done/vid_108_frame_326.txt\n",
            "/content/temp/08_Jake_done/vid_108_frame_662.txt\n",
            "/content/temp/08_Jake_done/vid_108_frame_433.txt\n",
            "/content/temp/08_Jake_done/vid_108_frame_614.txt\n",
            "/content/temp/08_Jake_done/vid_109_frame_128.txt\n",
            "/content/temp/08_Jake_done/vid_108_frame_496.txt\n",
            "/content/temp/08_Jake_done/vid_109_frame_25.txt\n",
            "/content/temp/08_Jake_done/vid_109_frame_150.txt\n",
            "/content/temp/08_Jake_done/vid_109_frame_140.txt\n",
            "/content/temp/08_Jake_done/vid_108_frame_646.txt\n",
            "/content/temp/08_Jake_done/vid_108_frame_495.txt\n",
            "/content/temp/08_Jake_done/vid_108_frame_469.txt\n",
            "/content/temp/08_Jake_done/vid_108_frame_637.txt\n",
            "/content/temp/08_Jake_done/vid_108_frame_402.txt\n",
            "/content/temp/08_Jake_done/vid_108_frame_49.txt\n",
            "/content/temp/08_Jake_done/vid_108_frame_57.txt\n",
            "/content/temp/08_Jake_done/vid_108_frame_211.txt\n",
            "/content/temp/08_Jake_done/vid_109_frame_154.txt\n",
            "/content/temp/08_Jake_done/vid_108_frame_76.txt\n",
            "/content/temp/08_Jake_done/vid_108_frame_88.txt\n",
            "/content/temp/08_Jake_done/vid_108_frame_67.txt\n",
            "/content/temp/08_Jake_done/vid_108_frame_624.txt\n",
            "/content/temp/08_Jake_done/vid_108_frame_488.txt\n",
            "/content/temp/08_Jake_done/vid_108_frame_400.txt\n",
            "/content/temp/08_Jake_done/vid_108_frame_471.txt\n",
            "/content/temp/08_Jake_done/vid_108_frame_315.txt\n",
            "/content/temp/08_Jake_done/vid_108_frame_611.txt\n",
            "/content/temp/08_Jake_done/vid_108_frame_491.txt\n",
            "/content/temp/08_Jake_done/vid_108_frame_685.txt\n",
            "/content/temp/08_Jake_done/vid_108_frame_528.txt\n",
            "/content/temp/08_Jake_done/vid_109_frame_197.txt\n",
            "/content/temp/08_Jake_done/vid_108_frame_281.txt\n",
            "/content/temp/08_Jake_done/vid_108_frame_65.txt\n",
            "/content/temp/08_Jake_done/vid_108_frame_201.txt\n",
            "/content/temp/08_Jake_done/vid_109_frame_162.txt\n",
            "/content/temp/08_Jake_done/vid_108_frame_216.txt\n",
            "/content/temp/08_Jake_done/vid_108_frame_227.txt\n",
            "/content/temp/08_Jake_done/vid_108_frame_395.txt\n",
            "/content/temp/08_Jake_done/vid_108_frame_658.txt\n",
            "/content/temp/08_Jake_done/vid_108_frame_506.txt\n",
            "/content/temp/08_Jake_done/vid_109_frame_164.txt\n",
            "/content/temp/08_Jake_done/vid_109_frame_103.txt\n",
            "/content/temp/08_Jake_done/vid_109_frame_110.txt\n",
            "/content/temp/08_Jake_done/vid_109_frame_101.txt\n",
            "/content/temp/08_Jake_done/vid_108_frame_421.txt\n",
            "/content/temp/08_Jake_done/vid_108_frame_546.txt\n",
            "/content/temp/08_Jake_done/vid_108_frame_513.txt\n",
            "/content/temp/08_Jake_done/vid_108_frame_459.txt\n",
            "/content/temp/08_Jake_done/vid_109_frame_211.txt\n",
            "/content/temp/08_Jake_done/vid_108_frame_351.txt\n",
            "/content/temp/08_Jake_done/vid_109_frame_285.txt\n",
            "/content/temp/08_Jake_done/vid_108_frame_550.txt\n",
            "/content/temp/08_Jake_done/vid_108_frame_323.txt\n",
            "/content/temp/08_Jake_done/vid_108_frame_419.txt\n",
            "/content/temp/08_Jake_done/vid_109_frame_271.txt\n",
            "/content/temp/08_Jake_done/vid_108_frame_23.txt\n",
            "/content/temp/08_Jake_done/vid_108_frame_258.txt\n",
            "/content/temp/08_Jake_done/vid_108_frame_633.txt\n",
            "/content/temp/08_Jake_done/vid_108_frame_644.txt\n",
            "/content/temp/08_Jake_done/vid_108_frame_515.txt\n",
            "/content/temp/08_Jake_done/vid_109_frame_212.txt\n",
            "/content/temp/08_Jake_done/vid_108_frame_562.txt\n",
            "/content/temp/08_Jake_done/vid_108_frame_724.txt\n",
            "/content/temp/08_Jake_done/vid_109_frame_27.txt\n",
            "/content/temp/08_Jake_done/vid_108_frame_741.txt\n",
            "/content/temp/08_Jake_done/vid_109_frame_225.txt\n",
            "/content/temp/08_Jake_done/vid_108_frame_256.txt\n",
            "/content/temp/08_Jake_done/vid_109_frame_133.txt\n",
            "/content/temp/08_Jake_done/vid_108_frame_368.txt\n",
            "/content/temp/08_Jake_done/vid_108_frame_307.txt\n",
            "/content/temp/08_Jake_done/vid_108_frame_532.txt\n",
            "/content/temp/08_Jake_done/vid_108_frame_73.txt\n",
            "/content/temp/08_Jake_done/vid_108_frame_580.txt\n",
            "/content/temp/08_Jake_done/vid_108_frame_393.txt\n",
            "/content/temp/08_Jake_done/vid_109_frame_137.txt\n",
            "/content/temp/08_Jake_done/vid_108_frame_743.txt\n",
            "/content/temp/08_Jake_done/vid_108_frame_405.txt\n",
            "/content/temp/08_Jake_done/vid_108_frame_212.txt\n",
            "/content/temp/08_Jake_done/vid_108_frame_336.txt\n",
            "/content/temp/08_Jake_done/vid_108_frame_739.txt\n",
            "/content/temp/08_Jake_done/vid_109_frame_303.txt\n",
            "/content/temp/08_Jake_done/vid_109_frame_226.txt\n",
            "/content/temp/08_Jake_done/vid_108_frame_308.txt\n"
          ]
        }
      ]
    },
    {
      "cell_type": "markdown",
      "source": [
        "## Check dataset is valid\n",
        "\n",
        "- Classes file is present and readable.\n",
        "- Images are jpgs (convert if needed).\n",
        "- Images have matching labels.\n",
        "- Label files are correctly formatted."
      ],
      "metadata": {
        "id": "lOf3tTxh9qMW"
      }
    },
    {
      "cell_type": "code",
      "source": [
        "# name your classes\n",
        "#classes = [\"blue\",\"orange\",\"yellow\"]\n",
        "with open( os.path.join(dataDir, classesFile), \"r\" ) as f:\n",
        "  classes = [ i.strip() for i in f ]\n",
        "\n",
        "print( classes )"
      ],
      "metadata": {
        "colab": {
          "base_uri": "https://localhost:8080/"
        },
        "id": "x6QWf-Rh9s-I",
        "outputId": "129025c7-6b17-45a6-f907-86383dd000c7"
      },
      "execution_count": null,
      "outputs": [
        {
          "output_type": "stream",
          "name": "stdout",
          "text": [
            "['blue', 'orange', 'yellow']\n"
          ]
        }
      ]
    },
    {
      "cell_type": "code",
      "source": [
        "#convert pngs to jpg\n",
        "#!apt install -y imagemagick\n",
        "\n",
        "import os, glob, re\n",
        "import cv2\n",
        "\n",
        "# convert pngs\n",
        "for filename in glob.glob( f\"{dataDir}/*.png\" ):\n",
        "  print( f\"Convert {filename}\" )\n",
        "  #os.system( f'convert \"{filename}\" \"{filename.replace(\".png\",\".jpg\")}\"' )\n",
        "  #os.remove( filename )\n",
        "  image = cv2.imread( filename )\n",
        "  if image is None:\n",
        "    print( f\"Failed to open {filename}\" )\n",
        "  else:\n",
        "    cv2.imwrite( \".\".join(filename.split(\".\")[:-1])+\".jpg\", image )\n",
        "  os.remove( filename )\n",
        "\n",
        "# check label file exists\n",
        "for filename in glob.glob( f\"{dataDir}/*.jpg\" ):\n",
        "  if not os.path.exists( filename.replace( \".jpg\", \".txt\" ) ):\n",
        "    print( f\"Missing labels {filename}\" )\n",
        "    os.remove( filename )\n",
        "\n",
        "# confirm images are valid\n",
        "#for filename in glob.glob( f\"{dataDir}/*.jpg\" ):\n",
        "#  result = os.system( f\"identify -format '%f' '{filename}'\" )\n",
        "#  if result:\n",
        "#      print( f\"Identify fail {filename}\" )\n",
        "      #os.remove( filename )\n",
        "\n",
        "# confirm that label files are in correct format\n",
        "yoloReg = re.compile( r\"^(\\s*([0-9]{1,})\\s{1,}(\\S{1,})\\s{1,}(\\S{1,})\\s{1,}(\\S{1,})\\s{1,}(\\S{1,})\\s*|\\s*)$\" )\n",
        "for filename in glob.glob( f\"{dataDir}/*.txt\" ):\n",
        "  if filename.endswith( classesFile ): continue\n",
        "\n",
        "  valid = True\n",
        "  with open( filename, \"r\" ) as f:\n",
        "    for line in f:\n",
        "      matches = yoloReg.match( line ).groups()\n",
        "      \n",
        "      c = int(matches[1])\n",
        "      if c<0 or c>=len(classes): valid = False\n",
        "      else:\n",
        "        for i in matches[-4:]:\n",
        "          i = float(i)\n",
        "          if i<0 or i>1: valid = False\n",
        "\n",
        "  if not valid:\n",
        "    print( f\"{filename} is invalid\" )\n",
        "    os.remove( filename )\n",
        "    os.remove( filename.replace(\".txt\", \".jpg\") )\n"
      ],
      "metadata": {
        "id": "C1CMYTYv9x-x"
      },
      "execution_count": null,
      "outputs": []
    },
    {
      "cell_type": "markdown",
      "source": [
        "# **Clone `darknet` git repository** \n",
        "\n",
        "Needed now as we are about to start generating the configuration files based on the default ones\n"
      ],
      "metadata": {
        "id": "mSEmqyhqBEio"
      }
    },
    {
      "cell_type": "code",
      "source": [
        "if not os.path.exists( darknetDir ) or rebuild:\n",
        "  try: shutil.rmtree( darknetDir )\n",
        "  except FileNotFoundError: pass\n",
        "\n",
        "  !git clone https://github.com/AlexeyAB/darknet {darknetDir}\n",
        "\n",
        "  #os.system( f\"git clone https://github.com/AlexeyAB/darknet {darknetDir}\" )\n",
        "\n",
        "  #!git clone https://github.com/leggedrobotics/darknet /content/darknet\n",
        "  #!git clone https://github.com/pjreddie/darknet {darknetDir}"
      ],
      "metadata": {
        "id": "bH0vxed2BHOT"
      },
      "execution_count": null,
      "outputs": []
    },
    {
      "cell_type": "markdown",
      "source": [
        "## Create config files\n"
      ],
      "metadata": {
        "id": "U2QbNAyeBQzn"
      }
    },
    {
      "cell_type": "code",
      "source": [
        "try: shutil.rmtree( yoloDir )\n",
        "except FileNotFoundError: pass\n",
        "\n",
        "os.makedirs( yoloDir )\n",
        "\n",
        "print( f\"Create {dataFile}\" )\n",
        "with open( dataFile, \"w\" ) as f:\n",
        "  f.write( f\"classes = {len(classes)}\\n\" )\n",
        "  f.write( f\"train = {trainingFile}\\n\" )\n",
        "  f.write( f\"test = {testingFile}\\n\" )\n",
        "  f.write( f\"valid = {validFile}\\n\" )\n",
        "  f.write( f\"names = {namesFile}\\n\" )\n",
        "  f.write( f\"backup = {backupDir}\\n\" )\n",
        "!cat {dataFile}\n",
        "\n",
        "print( f\"Create {namesFile}\" )\n",
        "with open( namesFile, \"w\" ) as f:\n",
        "  for i in classes:\n",
        "    f.write( f\"{i}\\n\" )"
      ],
      "metadata": {
        "colab": {
          "base_uri": "https://localhost:8080/"
        },
        "id": "05Qv2h33BRin",
        "outputId": "7f96d081-e5d6-44da-87c9-4715dbb54062"
      },
      "execution_count": null,
      "outputs": [
        {
          "output_type": "stream",
          "name": "stdout",
          "text": [
            "Create /content/yolo/obj.data\n",
            "classes = 3\n",
            "train = /content/yolo/train.txt\n",
            "test = /content/yolo/test.txt\n",
            "valid = /content/yolo/valid.txt\n",
            "names = /content/yolo/obj.names\n",
            "backup = /content/gdrive/MyDrive/Dissertation/backup\n",
            "Create /content/yolo/obj.names\n"
          ]
        }
      ]
    },
    {
      "cell_type": "code",
      "source": [
        "# split the images into testing and training groups\n",
        "# assuming that similar images have similar files names, this approach ensures\n",
        "# a representative distribution between the groups and will produce the same\n",
        "# split every time\n",
        "\n",
        "import math, os\n",
        "\n",
        "files = sorted( [ i for i in os.listdir( dataDir ) if i.endswith(\".jpg\") ] )\n",
        "\n",
        "buckets = ( [ open( trainingFile, \"w\" ), 0, trainProp ],\n",
        "\t\t\t      [ open( testingFile, \"w\" ), 0, testProp ], \n",
        "\t\t\t      [ open( validFile, \"w\" ), 0, validProp ] )\n",
        "\n",
        "for img in files:\n",
        "  s = sorted( buckets, key=lambda i: i[1] / (len(files)*i[2]) if i[2] else math.inf )\n",
        "\n",
        "  s[0][1] += 1\n",
        "  s[0][0].write( f\"{os.path.join(dataDir,img)}\\n\" )\n",
        "\n",
        "for f, count, _ in buckets:\n",
        "  print( count )\n",
        "  f.close()\n"
      ],
      "metadata": {
        "colab": {
          "base_uri": "https://localhost:8080/"
        },
        "id": "1xxQvDiWB6AK",
        "outputId": "db86a24a-8cfb-4ccb-f8a7-44c7b1eceda7"
      },
      "execution_count": null,
      "outputs": [
        {
          "output_type": "stream",
          "name": "stdout",
          "text": [
            "60\n",
            "20\n",
            "20\n"
          ]
        }
      ]
    },
    {
      "cell_type": "markdown",
      "source": [
        "## **Generate network config files**\n"
      ],
      "metadata": {
        "id": "daQuFLNeCJ3g"
      }
    },
    {
      "cell_type": "code",
      "source": [
        "def setParameters(width, height, angle, saturation, hue, blur, momentum, decay, learning, os):\n",
        "  import os, re\n",
        "\n",
        "  # how many training images have we got\n",
        "  try:\n",
        "    with open(trainingFile, 'r') as f:\n",
        "      images = sum( ( 1 for i in f if i.strip() != \"\" ) )\n",
        "  except:\n",
        "    images = 1000\n",
        "\n",
        "  #The below switch statement can be used to chose which test config file to run\n",
        "  sourceFiles = { (3,True):  os.path.join( darknetDir, \"cfg\", \"yolov3-tiny.cfg\" ),\n",
        "                  (3,False): os.path.join( darknetDir, \"cfg\", \"yolov3.cfg\" ),\n",
        "                  (4,True):  os.path.join( darknetDir, \"cfg\", \"yolov4-tiny-custom.cfg\" ),\n",
        "                  (4,False): os.path.join( darknetDir, \"cfg\", \"yolov4-custom.cfg\" )}\n",
        " \n",
        "  #maxBatches = max(len(classes)*2000,images,6000) * multiplier\n",
        "  maxBatches = 1000\n",
        "  steps = int(maxBatches*0.8), int(maxBatches*0.9)\n",
        "  replacements = [ \n",
        "    ( r\"^\\s*batch\\s*=\\s*[0-9]{1,}\",        f\"batch={[64,32][colabFree]}\\n\" ),\n",
        "    ( r\"^\\s*subdivisions\\s*=\\s*[0-9]{1,}\", f\"subdivisions={[16,8][colabFree]}\\n\" ),\n",
        "    ( r\"^\\s*max_batches\\s*=\\s*[0-9]{1,}\", f\"max_batches={maxBatches}\\n\" ),\n",
        "    ( r\"^\\s*steps\\s*=\\s*[0-9,]{3,}\",      f\"steps={steps[0]},{steps[1]}\\n\" ),\n",
        "    ( r\"^\\s*classes\\s*=\\s*[0-9]{1,}\",     f\"classes={len(classes)}\\n\" ),\n",
        "    ( r\"^\\s*filters\\s*=\\s*255\",           f\"filters={(len(classes)+5)*3}\\n\" ),\n",
        "    #My replacements are below\n",
        "    ( r\"^\\s*width\\s*=\\s*[0-9]{1,}\", f\"width={width}\\n\" ),\n",
        "    ( r\"^\\s*height\\s*=\\s*[0-9]{1,}\", f\"height={height}\\n\" ),\n",
        "    ( r\"^\\s*angle\\s*=\\s*[0-9]{1,}\", f\"angle={angle}\\n\" ),\n",
        "    #Below parameters have decimal values so added .[0-9] after [0-9]\n",
        "    ( r\"^\\s*saturation\\s*=\\s*[0-9].[0-9]{1,}\", f\"saturation={saturation}\\n\" ),\n",
        "    ( r\"^\\s*hue\\s*=\\s*[0-9].[0-9]{1,}\", f\"hue={hue}\\n\" ),\n",
        "    ( r\"^\\s*blur\\s*=\\s*[0-9].[0-9]{1,}\", f\"blur={blur}\\n\" ),\n",
        "    ( r\"^\\s*momentum\\s*=\\s*[0-9].[0-9]{1,}\", f\"mommentum={momentum}\\n\" ),\n",
        "    ( r\"^\\s*decay\\s*=\\s*[0-9].[0-9]{1,}\", f\"decay={decay}\\n\" ),\n",
        "    ( r\"^\\s*learning_rate\\s*=\\s*[0-9].[0-9]{1,}\", f\"learning_rate={learning}\\n\" ),\n",
        "    ]\n",
        "\n",
        "  altReplacements = [\n",
        "    ( r\"^\\s*batch=64\", \"batch=1\\n\" ),\n",
        "    ( r\"^\\s*batch=32\", \"batch=1\\n\" ),\n",
        "    ( r\"^\\s*subdivision=16\", \"subdivision=1\\n\" ),\n",
        "    ( r\"^\\s*subdivision=8\", \"subdivision=1\\n\" )\n",
        "    ]\n",
        "\n",
        "  # will colour be used for discrimination?\n",
        "  if color:\n",
        "    replacements.append( ( r\"^hue=\\.1\", \"hue=0\\n\" ) )\n",
        "\n",
        "  if size[0] != None:\n",
        "    assert size[0] % 32 == 0\n",
        "    replacements.append( ( r\"^\\s*height\\s*=\\s*[0-9]{1,}\",\n",
        "                         f\"height={int(size[0]/32)*32}\\n\" ) )\n",
        "\n",
        "  if size[1] != None:\n",
        "    assert size[1] % 32 == 0\n",
        "    replacements.append( ( r\"^\\s*width\\s*=\\s*[0-9]{1,}\",\n",
        "                          f\"width={int(size[1]/32)*32}\\n\" ) )\n",
        "\n",
        "  replacements = [ ( re.compile( i ), j ) for i, j in replacements ]\n",
        "  altReplacements = [ ( re.compile( i ), j ) for i, j in altReplacements ]\n",
        "\n",
        "  sourceFilename = sourceFiles[ (yolo,tiny) ]\n",
        "  print( f\"Using {sourceFilename} as source file \")\n",
        "  with open( sourceFilename, \"r\" ) as i:\n",
        "    with open( trainingCfgFile, \"w\" ) as o:\n",
        "      with open( trainedCfgFile, \"w\" ) as o2:\n",
        "        for line in i:\n",
        "          before = line\n",
        "          for reg, rep in replacements:\n",
        "            if reg.match( line ):\n",
        "              line = rep\n",
        "          o.write( line )\n",
        "\n",
        "          if line != before: print( line, end=\"\" )\n",
        "\n",
        "          for reg, rep in altReplacements:\n",
        "            if reg.match( line ):\n",
        "              line = rep\n",
        "          o2.write( line )\n",
        "  # change makefile to have GPU and OPENCV enabled\n",
        "  # also set CUDNN, CUDNN_HALF and LIBSO to 1\n",
        "\n",
        "  replacements = [ \n",
        "    ( r\"^\\s*LIBSO=0\",       \"LIBSO=1\\n\" )\n",
        "    ]\n",
        "\n",
        "  if opencv:\n",
        "    replacements.append( ( r\"OPENCV=0\", \"OPENCV=1\\n\" ) )\n",
        "\n",
        "  if gpu:\n",
        "    replacements.append( ( r\"^\\s*GPU=0\", \"GPU=1\\n\" ) )\n",
        "\n",
        "    if cudnn:\n",
        "      replacements.append( ( r\"^\\s*CUDNN=0\",       \"CUDNN=1\\n\" ) )\n",
        "\n",
        "    if tensor:\n",
        "      replacements.append( ( r\"^\\s*CUDNN_HALF=0\",  \"CUDNN_HALF=1\\n\" )  )\n",
        "\n",
        "  replacements = [ ( re.compile( i ), j ) for i, j in replacements ]\n",
        "\n",
        "  print( f\"Edit {darknetDir}\" )\n",
        "\n",
        "  with open( os.path.join( darknetDir, \"Makefile\" ), \"r\" ) as i:\n",
        "    contents = i.readlines()\n",
        "\n",
        "  with open( os.path.join( darknetDir, \"Makefile\" ), \"w\" ) as o:\n",
        "    for line in contents:\n",
        "      #print( line )\n",
        "      for reg, rep in replacements:\n",
        "        if reg.match( line ):\n",
        "          line = rep\n",
        "      o.write( line )\n",
        "  return os\n",
        "\n",
        "def buildDarknet(os):\n",
        "  if not os.path.exists( os.path.join( darknetDir, \"darknet\" ) ) or rebuild:\n",
        "    #os.system( f\"make -C {darknetDir}\" )\n",
        "    !make -C {darknetDir}\n",
        "  return os\n",
        "\n",
        "def downloadPTYoloWeights(os):\n",
        "  import shutil\n",
        "\n",
        "  lastWeightsFile = os.path.join( backupDir, \"training_last.weights\" )\n",
        "\n",
        "  #Need to keep an eye on this between different tests\n",
        "  if not resume or not os.path.exists( lastWeightsFile ): # resumt is False or the last weights don't exist\n",
        "    print( \"Download pre-trained weights\" )\n",
        "    if yolo == 4 and tiny:\n",
        "      url = \"https://github.com/AlexeyAB/darknet/releases/download/darknet_yolo_v4_pre/yolov4-tiny.conv.29\"\n",
        "    elif yolo == 4 and not tiny:\n",
        "      url = \"https://github.com/AlexeyAB/darknet/releases/download/darknet_yolo_v3_optimal/yolov4.conv.137\"\n",
        "    elif yolo == 3 and not tiny:\n",
        "      url = \"https://pjreddie.com/media/files/darknet53.conv.74\"\n",
        "\n",
        "    print( url )\n",
        "    os.system( f\"wget {url} -O {weightsFile}\" )\n",
        "    #added code from else statement below\n",
        "    %cd {darknetDir}\n",
        "    #If you want to train from the beginning, then use flag in the end of training command: -clear \n",
        "    cmd = f\"./darknet detector train {dataFile} {trainingCfgFile} {weightsFile} -dont_show -map -clear | tee -a {os.path.join(backupDir, 'darknet.log')}\"\n",
        "    print( cmd )\n",
        "    !{cmd}\n",
        "  else:\n",
        "    print( \"Resuming\" )\n",
        "\n",
        "    shutil.copyfile( lastWeightsFile, weightsFile )\n",
        "    import os\n",
        "\n",
        "    !mkdir -p {backupDir}\n",
        "    !cp -r {yoloDir} {backupDir}/.\n",
        "  \n",
        "    %cd {darknetDir}\n",
        "\n",
        "    #If you want to train from the beginning, then use flag in the end of training command: -clear \n",
        "    cmd = f\"./darknet detector train {dataFile} {trainingCfgFile} {weightsFile} -dont_show -map | tee -a {os.path.join(backupDir, 'darknet.log')}\"\n",
        "    print( cmd )\n",
        "    !{cmd}\n",
        "    #only works if the training does not get interrupted\n",
        "\n",
        "def errorBreak():\n",
        "  # This stops 'Run all' at this cell by causing an error\n",
        "  assert False\n",
        "  \n",
        "\n",
        "# define helper function imShow\n",
        "def imShow(path):\n",
        "  import cv2\n",
        "  import matplotlib.pyplot as plt\n",
        "  %matplotlib inline\n",
        "\n",
        "  image = cv2.imread(path)\n",
        "  height, width = image.shape[:2]\n",
        "  resized_image = cv2.resize(image,(3*width, 3*height), interpolation = cv2.INTER_CUBIC)\n",
        "\n",
        "  fig = plt.gcf()\n",
        "  fig.set_size_inches(18, 10)\n",
        "  plt.axis(\"off\")\n",
        "  plt.imshow(cv2.cvtColor(resized_image, cv2.COLOR_BGR2RGB))\n",
        "  plt.show()\n",
        "  return os\n",
        "\n",
        "def checkMAP():\n",
        "  !./darknet detector map {dataFile} {trainedCfgFile} {trainedWeightsFile} 2>&1 | egrep \"class_id|conf_thresh|IoU|mean average\""
      ],
      "metadata": {
        "id": "ul3TpoAJxflE"
      },
      "execution_count": null,
      "outputs": []
    },
    {
      "cell_type": "code",
      "source": [
        "#Random Search of chosen yolov4.config file parameters\n",
        "def getPList(startValue, endValue, incrementValue):\n",
        "  pList = []\n",
        "  currentValue = startValue\n",
        "  for i in range(int((endValue-startValue)/incrementValue)):\n",
        "    pList.append(currentValue)\n",
        "    currentValue+=incrementValue\n",
        "  return pList\n",
        "\n",
        "from random import choice\n",
        "#nOfModels decides how many times you run the random search\n",
        "#The higher the value of this variable, the higher the chance of getting a good correlation is\n",
        "nOfModels = 30\n",
        "#resultsList = []\n",
        "\n",
        "#[net] Section\n",
        "widthList = getPList(8, 1024, 8)\n",
        "heightList = getPList(8, 1024, 8)\n",
        "#Data augmentation\n",
        "angleList = getPList(0, 180, 5)\n",
        "saturationList = getPList(0, 10, 0.1)\n",
        "hueList = getPList(0, 1, 0.01)\n",
        "blurList = getPList(0, 1, 0.01)\n",
        "#Optimizer\n",
        "momentumList = getPList(0.01, 1, 0.01)\n",
        "decayList = getPList(0.00025, 0.00075, 0.00001)\n",
        "learningList = getPList(0.0005, 0.015, 0.0001)\n",
        "\n",
        "for i in range(nOfModels):\n",
        "  width = choice(widthList)\n",
        "  #widthChosenList.append(width)\n",
        "\n",
        "  height = choice(heightList)\n",
        "  #heightChosenList.append(height)\n",
        "\n",
        "  angle = choice(angleList)\n",
        "  #angleChosenList.append(angle)\n",
        "\n",
        "  saturation = choice(saturationList)\n",
        "  #saturationChosenList.append(saturation)\n",
        "\n",
        "  hue = choice(hueList)\n",
        "  #hueChosenList.append(hue)\n",
        "\n",
        "  blur = choice(blurList)\n",
        "  #blurChosenList.append(blur)\n",
        "\n",
        "  momentum = choice(momentumList)\n",
        "  #momentumChosenList.append(momentum)\n",
        "\n",
        "  decay = choice(decayList)\n",
        "  #decayChosenList.append(decay)\n",
        "\n",
        "  learning = choice(learningList)\n",
        "  #learningChosenList.append(learning)\n",
        "\n",
        "  pLog = backupDir + \"/parameters.log\"\n",
        "  \n",
        "\n",
        "  os = setParameters(width, height, angle, saturation, hue, blur, momentum, decay, learning, os)\n",
        "  os = buildDarknet(os)\n",
        "  downloadPTYoloWeights(os)\n",
        "  imShow('chart.png')\n",
        "  checkMAP()\n",
        "  with open(pLog, \"a\") as f:\n",
        "    f.write(str(width) + \", \" + str(height) + \", \" + str(angle) + \", \" + str(saturation) + \", \" + str(hue) + \", \" + str(blur) + \", \" + str(momentum) + \", \" + str(decay) + \", \" + str(learning) + \"\\n\")\n",
        "  #f1Score = ...\n",
        "  #currentOptions = [f\"Combination number {i}\", width, height, angle, saturation, hue, blur, momentum, decay, learning]\n",
        "  #resultsList.append(currentOptions)"
      ],
      "metadata": {
        "id": "ik0iiL_TCFDI"
      },
      "execution_count": null,
      "outputs": []
    },
    {
      "cell_type": "code",
      "source": [
        "backupDir = \"/content/gdrive/MyDrive/Dissertation/backup\"\n",
        "import re\n",
        "\n",
        "def logReader(filename):\n",
        "  with open(filename) as f:\n",
        "    log = f.read()\n",
        "    regex = r'F1-score = 0.\\d{1,5}|F1-score = -nan'\n",
        "    f1List = re.findall(regex, log)\n",
        "    return f1List\n",
        "log = backupDir + \"/darknet.log\"\n",
        "f1StringList = logReader(log)\n",
        "f1List = []\n",
        "for f1String in f1StringList:\n",
        "  f1List.append(float(f1String[11:]))\n",
        "print(f1List)"
      ],
      "metadata": {
        "id": "ky8ULE8Mqeur",
        "colab": {
          "base_uri": "https://localhost:8080/"
        },
        "outputId": "92bb6096-aab0-4e50-d3ac-5f07ff9e031d"
      },
      "execution_count": 2,
      "outputs": [
        {
          "output_type": "stream",
          "name": "stdout",
          "text": [
            "[0.72, 0.64, 0.6, 0.61, 0.68, 0.69, 0.67, 0.67, 0.71, 0.68, 0.66, 0.7, 0.58, 0.7, 0.67, 0.65, 0.68, 0.67, 0.72, 0.66, 0.65, 0.67, 0.73, 0.62, 0.67, 0.64, 0.65, 0.65, 0.68, 0.65, 0.7, 0.68, 0.68, 0.68, 0.66, 0.64, 0.66, 0.66, 0.71, 0.69, 0.68, 0.65, 0.66, 0.69, 0.64, 0.68, 0.7, 0.63, 0.69, 0.64, 0.68, 0.68, 0.6, 0.66, 0.67, 0.7, 0.68, 0.67, 0.66, 0.68, 0.69, 0.72, 0.72, 0.67, 0.69, 0.59, 0.69, 0.68, 0.68, 0.66, 0.68, 0.65, 0.66, 0.71, 0.7, 0.68, 0.68, 0.69, 0.68, 0.69, 0.69, 0.67, 0.67, 0.64, 0.66, 0.68, 0.7, 0.67, 0.69, 0.67, 0.69, 0.68, 0.65, 0.65, 0.68, 0.68, 0.68, 0.65, 0.69, 0.67, 0.68, 0.67, 0.66, 0.67, 0.67, 0.65, 0.7, 0.65, 0.68, 0.69, 0.68, 0.56, 0.7, 0.7, 0.71, 0.65, 0.69, 0.71, 0.67, 0.68, 0.69, 0.67, 0.7, 0.62, 0.71, 0.65, 0.66, 0.7, 0.67, 0.69, 0.69, 0.71, 0.69, 0.64, 0.68, 0.67, 0.64, 0.68, 0.69, 0.68, 0.71, 0.67, 0.65, 0.6, 0.7, 0.68, 0.66, 0.66, 0.69, 0.66, 0.67, 0.68, 0.66, 0.69, 0.68, 0.66, 0.7, 0.67, 0.69, 0.65, 0.67, 0.67, 0.65, 0.7, 0.72, 0.69, 0.68, 0.71, 0.65, 0.66, 0.67, 0.7, 0.67, 0.69, 0.65, 0.62, 0.64, 0.65, 0.69, 0.65, 0.67, 0.71, 0.65, 0.68, 0.68, 0.69, 0.65, 0.64, 0.69, 0.64, 0.7, 0.65, 0.65, 0.69, 0.69, 0.67, 0.7, 0.66, 0.72, 0.65, 0.69, 0.68, 0.71, 0.65, 0.69, 0.65, 0.68, 0.61, 0.69, 0.67, 0.71, 0.69, 0.63, 0.69, 0.72, 0.65, 0.66, 0.63, 0.66, 0.68, 0.66, 0.68, 0.68, 0.66, 0.69, 0.64, 0.6, 0.72, 0.67, 0.69, 0.69, 0.62, 0.67]\n"
          ]
        }
      ]
    },
    {
      "cell_type": "code",
      "source": [
        "from matplotlib import pyplot as plt\n",
        "import pandas as pd\n",
        "import numpy as np\n",
        "import seaborn as sns\n",
        "import scipy.stats as st\n"
      ],
      "metadata": {
        "id": "gNPlfokXdYkX",
        "colab": {
          "base_uri": "https://localhost:8080/"
        },
        "outputId": "06280d89-0c06-43bc-aaf8-5162aff60e61"
      },
      "execution_count": 6,
      "outputs": [
        {
          "output_type": "execute_result",
          "data": {
            "text/plain": [
              "233"
            ]
          },
          "metadata": {},
          "execution_count": 6
        }
      ]
    },
    {
      "cell_type": "code",
      "source": [
        "widthChosenList = []\n",
        "heightChosenList = []\n",
        "angleChosenList = []\n",
        "saturationChosenList = []\n",
        "hueChosenList = []\n",
        "blurChosenList = []\n",
        "momentumChosenList = []\n",
        "decayChosenList = []\n",
        "learningChosenList = []\n",
        "def paraReader(filename):\n",
        "  with open(filename, \"r\") as f:\n",
        "    log = f.readlines()\n",
        "    paraListList = []\n",
        "    for i in range(len(log)):\n",
        "      log[i]=log[i][:-1]\n",
        "      paraListList.append(log[i].split(\", \"))\n",
        "    return paraListList\n",
        "paraListList=paraReader(backupDir + \"/parameters.log\")\n",
        "for i in paraListList:\n",
        "  widthChosenList.append(float(i[0]))\n",
        "  heightChosenList.append(float(i[1]))\n",
        "  angleChosenList.append(float(i[2]))\n",
        "  saturationChosenList.append(float(i[3]))\n",
        "  hueChosenList.append(float(i[4]))\n",
        "  blurChosenList.append(float(i[5]))\n",
        "  momentumChosenList.append(float(i[6]))\n",
        "  decayChosenList.append(float(i[7]))\n",
        "  learningChosenList.append(float(i[8]))\n",
        "len(paraListList)"
      ],
      "metadata": {
        "id": "jgboBVe2DEKh",
        "colab": {
          "base_uri": "https://localhost:8080/"
        },
        "outputId": "ced07321-edfa-48ba-e23b-8f6c852b27d9"
      },
      "execution_count": 13,
      "outputs": [
        {
          "output_type": "execute_result",
          "data": {
            "text/plain": [
              "233"
            ]
          },
          "metadata": {},
          "execution_count": 13
        }
      ]
    },
    {
      "cell_type": "code",
      "source": [
        "def plotLR(f1s, parameters):\n",
        "  reg = np.polyfit(parameters, f1s, deg=1)\n",
        "  trend = np.polyval(reg, parameters)\n",
        "  plt.scatter(parameters, f1s)\n",
        "  plt.plot(parameters, trend, 'r')\n",
        "\n",
        "from sklearn.linear_model import LinearRegression # to build a LR model for comparison\n",
        "from sklearn.preprocessing import PolynomialFeatures\n",
        "def plotPolyR(y, x):\n",
        "  x= np.array(x).reshape(-1, 1)\n",
        "  poly = PolynomialFeatures(degree=3)\n",
        "  X_poly = poly.fit_transform(x)\n",
        "  poly.fit(X_poly, y)\n",
        "  linreg = LinearRegression()\n",
        "  linreg.fit(X_poly, y)\n",
        "  y_pred=linreg.predict(X_poly)\n",
        "  plt.scatter(x,y, color='blue')\n",
        "  plt.plot(x,y_pred, color='red')\n",
        "#plotPolyR(f1List, widthChosenList)\n",
        "plotLR(f1List, widthChosenList)\n",
        "np.corrcoef(f1List, widthChosenList)"
      ],
      "metadata": {
        "id": "2990YIbMDEt4",
        "colab": {
          "base_uri": "https://localhost:8080/",
          "height": 301
        },
        "outputId": "ef09325c-1552-491b-a9c6-1369398a028f"
      },
      "execution_count": 25,
      "outputs": [
        {
          "output_type": "execute_result",
          "data": {
            "text/plain": [
              "array([[ 1.        , -0.02006016],\n",
              "       [-0.02006016,  1.        ]])"
            ]
          },
          "metadata": {},
          "execution_count": 25
        },
        {
          "output_type": "display_data",
          "data": {
            "text/plain": [
              "<Figure size 432x288 with 1 Axes>"
            ],
            "image/png": "[encoded data removed]"
          },
          "metadata": {
            "needs_background": "light"
          }
        }
      ]
    },
    {
      "cell_type": "code",
      "source": [
        "plotLR(f1List, heightChosenList)\n",
        "np.corrcoef(f1List, heightChosenList)"
      ],
      "metadata": {
        "id": "6OmdXGASDE46",
        "colab": {
          "base_uri": "https://localhost:8080/",
          "height": 301
        },
        "outputId": "c1bee2b7-a3a5-4fbf-b97a-2ae219cf3e3b"
      },
      "execution_count": 33,
      "outputs": [
        {
          "output_type": "execute_result",
          "data": {
            "text/plain": [
              "array([[1.        , 0.04808235],\n",
              "       [0.04808235, 1.        ]])"
            ]
          },
          "metadata": {},
          "execution_count": 33
        },
        {
          "output_type": "display_data",
          "data": {
            "text/plain": [
              "<Figure size 432x288 with 1 Axes>"
            ],
            "image/png": "[encoded data removed]"
          },
          "metadata": {
            "needs_background": "light"
          }
        }
      ]
    },
    {
      "cell_type": "code",
      "source": [
        "plotLR(f1List, angleChosenList)\n",
        "np.corrcoef(f1List, angleChosenList)"
      ],
      "metadata": {
        "id": "6_2lniSmDFDN",
        "colab": {
          "base_uri": "https://localhost:8080/",
          "height": 301
        },
        "outputId": "1ca8d2ed-f590-415a-c94b-ee8e3cdf4d94"
      },
      "execution_count": 32,
      "outputs": [
        {
          "output_type": "execute_result",
          "data": {
            "text/plain": [
              "array([[1.        , 0.06859164],\n",
              "       [0.06859164, 1.        ]])"
            ]
          },
          "metadata": {},
          "execution_count": 32
        },
        {
          "output_type": "display_data",
          "data": {
            "text/plain": [
              "<Figure size 432x288 with 1 Axes>"
            ],
            "image/png": "[encoded data removed]"
          },
          "metadata": {
            "needs_background": "light"
          }
        }
      ]
    },
    {
      "cell_type": "code",
      "source": [
        "plotLR(f1List, saturationChosenList)\n",
        "np.corrcoef(f1List, saturationChosenList)"
      ],
      "metadata": {
        "id": "h2kH3HoCDFMt",
        "colab": {
          "base_uri": "https://localhost:8080/",
          "height": 301
        },
        "outputId": "d2b9b197-5deb-4211-f1a5-8711f800bdcf"
      },
      "execution_count": 31,
      "outputs": [
        {
          "output_type": "execute_result",
          "data": {
            "text/plain": [
              "array([[ 1.        , -0.23202016],\n",
              "       [-0.23202016,  1.        ]])"
            ]
          },
          "metadata": {},
          "execution_count": 31
        },
        {
          "output_type": "display_data",
          "data": {
            "text/plain": [
              "<Figure size 432x288 with 1 Axes>"
            ],
            "image/png": "[encoded data removed]"
          },
          "metadata": {
            "needs_background": "light"
          }
        }
      ]
    },
    {
      "cell_type": "code",
      "source": [
        "plotLR(f1List, hueChosenList)\n",
        "np.corrcoef(f1List, hueChosenList)"
      ],
      "metadata": {
        "id": "nrmNY7tODFVn",
        "colab": {
          "base_uri": "https://localhost:8080/",
          "height": 301
        },
        "outputId": "f9dcada5-0d54-494c-f225-c8d0e1044ec5"
      },
      "execution_count": 30,
      "outputs": [
        {
          "output_type": "execute_result",
          "data": {
            "text/plain": [
              "array([[1.        , 0.05238133],\n",
              "       [0.05238133, 1.        ]])"
            ]
          },
          "metadata": {},
          "execution_count": 30
        },
        {
          "output_type": "display_data",
          "data": {
            "text/plain": [
              "<Figure size 432x288 with 1 Axes>"
            ],
            "image/png": "[encoded data removed]"
          },
          "metadata": {
            "needs_background": "light"
          }
        }
      ]
    },
    {
      "cell_type": "code",
      "source": [
        "plotLR(f1List, blurChosenList)\n",
        "np.corrcoef(f1List, blurChosenList)"
      ],
      "metadata": {
        "id": "oETSIIaMDFfJ",
        "colab": {
          "base_uri": "https://localhost:8080/",
          "height": 301
        },
        "outputId": "319f945d-7cff-4da1-e6b9-934aa15fc390"
      },
      "execution_count": 29,
      "outputs": [
        {
          "output_type": "execute_result",
          "data": {
            "text/plain": [
              "array([[ 1.        , -0.08970105],\n",
              "       [-0.08970105,  1.        ]])"
            ]
          },
          "metadata": {},
          "execution_count": 29
        },
        {
          "output_type": "display_data",
          "data": {
            "text/plain": [
              "<Figure size 432x288 with 1 Axes>"
            ],
            "image/png": "[encoded data removed]"
          },
          "metadata": {
            "needs_background": "light"
          }
        }
      ]
    },
    {
      "cell_type": "code",
      "source": [
        "plotLR(f1List, momentumChosenList)\n",
        "np.corrcoef(f1List, momentumChosenList)"
      ],
      "metadata": {
        "id": "jvahj9n8DFpm",
        "colab": {
          "base_uri": "https://localhost:8080/",
          "height": 301
        },
        "outputId": "b7b10b6c-6434-49b5-e2ff-200607579ffa"
      },
      "execution_count": 28,
      "outputs": [
        {
          "output_type": "execute_result",
          "data": {
            "text/plain": [
              "array([[ 1.00000000e+00, -4.54666437e-04],\n",
              "       [-4.54666437e-04,  1.00000000e+00]])"
            ]
          },
          "metadata": {},
          "execution_count": 28
        },
        {
          "output_type": "display_data",
          "data": {
            "text/plain": [
              "<Figure size 432x288 with 1 Axes>"
            ],
            "image/png": "[encoded data removed]"
          },
          "metadata": {
            "needs_background": "light"
          }
        }
      ]
    },
    {
      "cell_type": "code",
      "source": [
        "plotLR(f1List, decayChosenList)\n",
        "np.corrcoef(f1List, decayChosenList)"
      ],
      "metadata": {
        "id": "Pi7x9sPmDPdr",
        "colab": {
          "base_uri": "https://localhost:8080/",
          "height": 301
        },
        "outputId": "a7dba634-782f-4bb3-9d5f-9a1c7e33e633"
      },
      "execution_count": 27,
      "outputs": [
        {
          "output_type": "execute_result",
          "data": {
            "text/plain": [
              "array([[ 1.        , -0.09542449],\n",
              "       [-0.09542449,  1.        ]])"
            ]
          },
          "metadata": {},
          "execution_count": 27
        },
        {
          "output_type": "display_data",
          "data": {
            "text/plain": [
              "<Figure size 432x288 with 1 Axes>"
            ],
            "image/png": "[encoded data removed]"
          },
          "metadata": {
            "needs_background": "light"
          }
        }
      ]
    },
    {
      "cell_type": "code",
      "source": [
        "plotLR(f1List, learningChosenList)\n",
        "np.corrcoef(f1List, learningChosenList)"
      ],
      "metadata": {
        "id": "8bJVn9y_DPn5",
        "colab": {
          "base_uri": "https://localhost:8080/",
          "height": 301
        },
        "outputId": "20e66c20-02f6-4741-f3fb-e75b368c0125"
      },
      "execution_count": 26,
      "outputs": [
        {
          "output_type": "execute_result",
          "data": {
            "text/plain": [
              "array([[1.        , 0.01118548],\n",
              "       [0.01118548, 1.        ]])"
            ]
          },
          "metadata": {},
          "execution_count": 26
        },
        {
          "output_type": "display_data",
          "data": {
            "text/plain": [
              "<Figure size 432x288 with 1 Axes>"
            ],
            "image/png": "[encoded data removed]"
          },
          "metadata": {
            "needs_background": "light"
          }
        }
      ]
    },
    {
      "cell_type": "code",
      "source": [
        "bestF1 = max(f1List)\n",
        "bestIndex = f1List.index(bestF1)\n",
        "bestIndex\n",
        "len(f1List)"
      ],
      "metadata": {
        "id": "X6vzp4oXDPw6",
        "colab": {
          "base_uri": "https://localhost:8080/"
        },
        "outputId": "5e02829f-c4f0-4d33-cefd-ace496c081e2"
      },
      "execution_count": 23,
      "outputs": [
        {
          "output_type": "execute_result",
          "data": {
            "text/plain": [
              "233"
            ]
          },
          "metadata": {},
          "execution_count": 23
        }
      ]
    }
  ]
}